{
  "nbformat": 4,
  "nbformat_minor": 0,
  "metadata": {
    "colab": {
      "name": "Numpy_pandas_intro.ipynb",
      "provenance": [],
      "collapsed_sections": [],
      "include_colab_link": true
    },
    "kernelspec": {
      "name": "python3",
      "display_name": "Python 3"
    },
    "language_info": {
      "name": "python"
    }
  },
  "cells": [
    {
      "cell_type": "markdown",
      "metadata": {
        "id": "view-in-github",
        "colab_type": "text"
      },
      "source": [
        "<a href=\"https://colab.research.google.com/github/arindakhill/My_colab_notes/blob/main/Numpy_pandas_intro.ipynb\" target=\"_parent\"><img src=\"https://colab.research.google.com/assets/colab-badge.svg\" alt=\"Open In Colab\"/></a>"
      ]
    },
    {
      "cell_type": "markdown",
      "source": [
        "Import Libraries"
      ],
      "metadata": {
        "id": "9OgdsMyfikJv"
      }
    },
    {
      "cell_type": "code",
      "source": [
        "import numpy as np\n",
        "import pandas as pd\n",
        "import matplotlib as plt\n",
        "import sys\n",
        "\n",
        "import sklearn\n",
        "\n",
        "import seaborn as sns\n",
        "from numpy.random import randn\n"
      ],
      "metadata": {
        "id": "K0W8EO2biwkj"
      },
      "execution_count": 79,
      "outputs": []
    },
    {
      "cell_type": "markdown",
      "source": [
        "Checking Python version"
      ],
      "metadata": {
        "id": "oWdWD4kJkCCz"
      }
    },
    {
      "cell_type": "code",
      "source": [
        "\n",
        "sys.version"
      ],
      "metadata": {
        "colab": {
          "base_uri": "https://localhost:8080/",
          "height": 35
        },
        "id": "S2pPwM9Iisjx",
        "outputId": "6d16d86c-5bdb-4ef5-dd47-ce00fc95480a"
      },
      "execution_count": null,
      "outputs": [
        {
          "output_type": "execute_result",
          "data": {
            "application/vnd.google.colaboratory.intrinsic+json": {
              "type": "string"
            },
            "text/plain": [
              "'3.7.12 (default, Sep 10 2021, 00:21:48) \\n[GCC 7.5.0]'"
            ]
          },
          "metadata": {},
          "execution_count": 6
        }
      ]
    },
    {
      "cell_type": "code",
      "source": [
        ""
      ],
      "metadata": {
        "id": "n9mhh8GCkofX"
      },
      "execution_count": 5,
      "outputs": []
    },
    {
      "cell_type": "markdown",
      "source": [
        "## #NUMPY\n",
        "#Comparing python lists with numpy arrays\n",
        "Tutorial url:[here](https://www.youtube.com/watch?v=oxEak3HHUOM)"
      ],
      "metadata": {
        "id": "FolDzguAReSG"
      }
    },
    {
      "cell_type": "code",
      "source": [
        "numpy_array=np.arange(0,1000000)\n",
        "python_list=range(1000000)\n",
        "\n",
        "print(\"Python List\")\n",
        "time=%timeit -r 1 -o sum(python_list)\n",
        "print(time.all_runs[0]/time.loops)\n",
        "\n",
        "print(\"\\n\"+\"numpy array\")\n",
        "time=%timeit -r 1 -o np.sum(numpy_array)\n",
        "print(time.all_runs[0]/time.loops)\n",
        "\n",
        "print(\"\\n\"+\"numpy array -- standard library sum\")\n",
        "time=%timeit -r 1 -o sum(numpy_array)\n",
        "print(time.all_runs[0]/time.loops)"
      ],
      "metadata": {
        "colab": {
          "base_uri": "https://localhost:8080/"
        },
        "id": "reNObLsLRjug",
        "outputId": "5b8217e9-cf0c-4808-f6b4-d6eed2506598"
      },
      "execution_count": 6,
      "outputs": [
        {
          "output_type": "stream",
          "name": "stdout",
          "text": [
            "Python List\n",
            "10 loops, best of 1: 21.6 ms per loop\n",
            "0.021564116100000773\n",
            "\n",
            "numpy array\n",
            "The slowest run took 6.72 times longer than the fastest. This could mean that an intermediate result is being cached.\n",
            "1000 loops, best of 1: 718 µs per loop\n",
            "0.0007177298070000688\n",
            "\n",
            "numpy array -- standard library sum\n",
            "10 loops, best of 1: 177 ms per loop\n",
            "0.1772858117999931\n"
          ]
        }
      ]
    },
    {
      "cell_type": "code",
      "source": [
        ""
      ],
      "metadata": {
        "id": "_HOjapi9Rkyq"
      },
      "execution_count": 7,
      "outputs": []
    },
    {
      "cell_type": "markdown",
      "source": [
        "#Numypy NdArrays\n",
        "\n",
        "\n",
        "*   have types\n",
        "*   Each array is of one type\n",
        "\n",
        "\n"
      ],
      "metadata": {
        "id": "lPqItePVDn8v"
      }
    },
    {
      "cell_type": "code",
      "source": [
        "ints=np.array(range(3))\n",
        "chars=np.array(list('ABC'))\n",
        "strings=np.array(['A','BC',\"DEF\"])\n",
        "\n",
        "print(ints.dtype, chars.dtype,strings.dtype)"
      ],
      "metadata": {
        "colab": {
          "base_uri": "https://localhost:8080/"
        },
        "id": "DYvLyIxWDtTr",
        "outputId": "a520a5a0-ff15-4bf4-cefe-8f9036f38edd"
      },
      "execution_count": 10,
      "outputs": [
        {
          "output_type": "stream",
          "name": "stdout",
          "text": [
            "int64 <U1 <U3\n"
          ]
        }
      ]
    },
    {
      "cell_type": "code",
      "source": [
        "chars"
      ],
      "metadata": {
        "colab": {
          "base_uri": "https://localhost:8080/"
        },
        "id": "kn9we5N7GEW-",
        "outputId": "33696b5b-25e6-4f02-bbd0-21fbc7e5336c"
      },
      "execution_count": 11,
      "outputs": [
        {
          "output_type": "execute_result",
          "data": {
            "text/plain": [
              "array(['A', 'B', 'C'], dtype='<U1')"
            ]
          },
          "metadata": {},
          "execution_count": 11
        }
      ]
    },
    {
      "cell_type": "code",
      "source": [
        "strings"
      ],
      "metadata": {
        "colab": {
          "base_uri": "https://localhost:8080/"
        },
        "id": "AuV3AFdNGHXk",
        "outputId": "8c925c9e-e524-435a-ab4b-6e448e453c1c"
      },
      "execution_count": 12,
      "outputs": [
        {
          "output_type": "execute_result",
          "data": {
            "text/plain": [
              "array(['A', 'BC', 'DEF'], dtype='<U3')"
            ]
          },
          "metadata": {},
          "execution_count": 12
        }
      ]
    },
    {
      "cell_type": "code",
      "source": [
        "ints"
      ],
      "metadata": {
        "colab": {
          "base_uri": "https://localhost:8080/"
        },
        "id": "OiHuiinZGOG-",
        "outputId": "5c286863-6215-4a0b-e0e6-b0360bbfb6ac"
      },
      "execution_count": 13,
      "outputs": [
        {
          "output_type": "execute_result",
          "data": {
            "text/plain": [
              "array([0, 1, 2])"
            ]
          },
          "metadata": {},
          "execution_count": 13
        }
      ]
    },
    {
      "cell_type": "code",
      "source": [
        "ints*0.3"
      ],
      "metadata": {
        "colab": {
          "base_uri": "https://localhost:8080/"
        },
        "id": "iGQFnQSaGSR6",
        "outputId": "d0fb691f-7690-428f-8569-75a2901fa75e"
      },
      "execution_count": 15,
      "outputs": [
        {
          "output_type": "execute_result",
          "data": {
            "text/plain": [
              "array([0. , 0.3, 0.6])"
            ]
          },
          "metadata": {},
          "execution_count": 15
        }
      ]
    },
    {
      "cell_type": "code",
      "source": [
        "(ints*0.3).dtype"
      ],
      "metadata": {
        "colab": {
          "base_uri": "https://localhost:8080/"
        },
        "id": "MuwWptSrGY1M",
        "outputId": "af2996bf-bc9e-4025-98d8-f3095980574d"
      },
      "execution_count": 16,
      "outputs": [
        {
          "output_type": "execute_result",
          "data": {
            "text/plain": [
              "dtype('float64')"
            ]
          },
          "metadata": {},
          "execution_count": 16
        }
      ]
    },
    {
      "cell_type": "code",
      "source": [
        ""
      ],
      "metadata": {
        "id": "xa96y-NmGkL6"
      },
      "execution_count": null,
      "outputs": []
    },
    {
      "cell_type": "markdown",
      "source": [
        "# Creating and using NdArray"
      ],
      "metadata": {
        "id": "fkMN2Nm1GvWJ"
      }
    },
    {
      "cell_type": "code",
      "source": [
        "my_lst_ndarray=np.array([1,2,3,4,5],np.int32)\n",
        "my_tuple_ndarray=np.array((1,2,3,4,5), np.int32)"
      ],
      "metadata": {
        "id": "p9BoFsWvG2S7"
      },
      "execution_count": 22,
      "outputs": []
    },
    {
      "cell_type": "code",
      "source": [
        "print(my_lst_ndarray.dtype)\n",
        "print(my_tuple_ndarray.dtype)"
      ],
      "metadata": {
        "colab": {
          "base_uri": "https://localhost:8080/"
        },
        "id": "-5ZUonDVHanp",
        "outputId": "eb6d5006-ac2f-457f-b182-e657277be139"
      },
      "execution_count": 23,
      "outputs": [
        {
          "output_type": "stream",
          "name": "stdout",
          "text": [
            "int32\n",
            "int32\n"
          ]
        }
      ]
    },
    {
      "cell_type": "code",
      "source": [
        "print(my_lst_ndarray.shape)\n",
        "print(my_tuple_ndarray.shape)"
      ],
      "metadata": {
        "colab": {
          "base_uri": "https://localhost:8080/"
        },
        "id": "f4MDS4WvHdx0",
        "outputId": "10854a34-3334-4c38-f70a-0dde1d12edf9"
      },
      "execution_count": 20,
      "outputs": [
        {
          "output_type": "stream",
          "name": "stdout",
          "text": [
            "(5,)\n",
            "(5,)\n"
          ]
        }
      ]
    },
    {
      "cell_type": "markdown",
      "source": [
        "# 2D arrays"
      ],
      "metadata": {
        "id": "OKK9GdMWI2Qj"
      }
    },
    {
      "cell_type": "code",
      "source": [
        "nd_arr=np.array([[1,2,3,4,5],[6,7,8,9,10],[11,12,13,14,16]])\n",
        "nd_arr.shape\n"
      ],
      "metadata": {
        "colab": {
          "base_uri": "https://localhost:8080/"
        },
        "id": "KnsZif5tI_FJ",
        "outputId": "2039a8ef-de96-4e92-9086-3a7f38ed7c7a"
      },
      "execution_count": 22,
      "outputs": [
        {
          "output_type": "execute_result",
          "data": {
            "text/plain": [
              "(3, 5)"
            ]
          },
          "metadata": {},
          "execution_count": 22
        }
      ]
    },
    {
      "cell_type": "markdown",
      "source": [
        "#Access info in the Array\n",
        "\n",
        "\n",
        "*   Individual data\n",
        "*   Slices of data\n",
        "\n"
      ],
      "metadata": {
        "id": "FWgDKOxH0HrA"
      }
    },
    {
      "cell_type": "code",
      "source": [
        "nd_arr[0,4]"
      ],
      "metadata": {
        "colab": {
          "base_uri": "https://localhost:8080/"
        },
        "id": "tnOm-VzSJTtP",
        "outputId": "6d9bb912-063f-4d81-80e2-e29a210df73a"
      },
      "execution_count": 7,
      "outputs": [
        {
          "output_type": "execute_result",
          "data": {
            "text/plain": [
              "5"
            ]
          },
          "metadata": {},
          "execution_count": 7
        }
      ]
    },
    {
      "cell_type": "code",
      "source": [
        "nd_arr[0:3,1:2]"
      ],
      "metadata": {
        "colab": {
          "base_uri": "https://localhost:8080/"
        },
        "id": "2B86NtNE0d7k",
        "outputId": "e81cc1dd-683a-492e-8930-ef3a9c175400"
      },
      "execution_count": 13,
      "outputs": [
        {
          "output_type": "execute_result",
          "data": {
            "text/plain": [
              "array([[ 2],\n",
              "       [ 7],\n",
              "       [12]])"
            ]
          },
          "metadata": {},
          "execution_count": 13
        }
      ]
    },
    {
      "cell_type": "code",
      "source": [
        "nd_arr[:,:-3]"
      ],
      "metadata": {
        "colab": {
          "base_uri": "https://localhost:8080/"
        },
        "id": "mccg5-kC1pyX",
        "outputId": "f7cb8648-f12e-453c-94e4-e26a8d669799"
      },
      "execution_count": 18,
      "outputs": [
        {
          "output_type": "execute_result",
          "data": {
            "text/plain": [
              "array([[ 1,  2],\n",
              "       [ 6,  7],\n",
              "       [11, 12]])"
            ]
          },
          "metadata": {},
          "execution_count": 18
        }
      ]
    },
    {
      "cell_type": "code",
      "source": [
        "nd_arr[-1:,:-1]"
      ],
      "metadata": {
        "colab": {
          "base_uri": "https://localhost:8080/"
        },
        "id": "EdI72bqR2CAm",
        "outputId": "10984062-2dd3-4104-f130-4f5674211ccf"
      },
      "execution_count": 15,
      "outputs": [
        {
          "output_type": "execute_result",
          "data": {
            "text/plain": [
              "array([[11, 12, 13, 14]])"
            ]
          },
          "metadata": {},
          "execution_count": 15
        }
      ]
    },
    {
      "cell_type": "code",
      "source": [
        "nd_arr[:-1,:]"
      ],
      "metadata": {
        "colab": {
          "base_uri": "https://localhost:8080/"
        },
        "id": "zNzXjlua2KjL",
        "outputId": "a38f225b-8a39-4cd1-cc49-ebd9fd83c2be"
      },
      "execution_count": 19,
      "outputs": [
        {
          "output_type": "execute_result",
          "data": {
            "text/plain": [
              "array([[ 1,  2,  3,  4,  5],\n",
              "       [ 6,  7,  8,  9, 10]])"
            ]
          },
          "metadata": {},
          "execution_count": 19
        }
      ]
    },
    {
      "cell_type": "code",
      "source": [
        "nd_arr.sum()\n"
      ],
      "metadata": {
        "colab": {
          "base_uri": "https://localhost:8080/"
        },
        "id": "J4o_UPFl20ck",
        "outputId": "a3239174-2515-4f11-9421-8e628fafa54a"
      },
      "execution_count": 23,
      "outputs": [
        {
          "output_type": "execute_result",
          "data": {
            "text/plain": [
              "121"
            ]
          },
          "metadata": {},
          "execution_count": 23
        }
      ]
    },
    {
      "cell_type": "code",
      "source": [
        "nd_arr.sum?"
      ],
      "metadata": {
        "id": "EqnwA5PS3Cqh"
      },
      "execution_count": 24,
      "outputs": []
    },
    {
      "cell_type": "code",
      "source": [
        "nd_arr"
      ],
      "metadata": {
        "colab": {
          "base_uri": "https://localhost:8080/"
        },
        "id": "SgXh38eD3bn0",
        "outputId": "36885b2c-6e04-4619-cf6c-6eec8125ed41"
      },
      "execution_count": 25,
      "outputs": [
        {
          "output_type": "execute_result",
          "data": {
            "text/plain": [
              "array([[ 1,  2,  3,  4,  5],\n",
              "       [ 6,  7,  8,  9, 10],\n",
              "       [11, 12, 13, 14, 16]])"
            ]
          },
          "metadata": {},
          "execution_count": 25
        }
      ]
    },
    {
      "cell_type": "code",
      "source": [
        "nd_arr.sum(axis=1)"
      ],
      "metadata": {
        "colab": {
          "base_uri": "https://localhost:8080/"
        },
        "id": "bGaCHBUc3N5x",
        "outputId": "ac9dbd1f-7ee7-42ef-f708-08756709ea28"
      },
      "execution_count": 27,
      "outputs": [
        {
          "output_type": "execute_result",
          "data": {
            "text/plain": [
              "array([15, 40, 66])"
            ]
          },
          "metadata": {},
          "execution_count": 27
        }
      ]
    },
    {
      "cell_type": "code",
      "source": [
        "nd_arr.sum(axis=0)"
      ],
      "metadata": {
        "colab": {
          "base_uri": "https://localhost:8080/"
        },
        "id": "Efq6Qb6u4aGU",
        "outputId": "bcbdb607-855b-40cf-eadf-13d54d4a663d"
      },
      "execution_count": 28,
      "outputs": [
        {
          "output_type": "execute_result",
          "data": {
            "text/plain": [
              "array([18, 21, 24, 27, 31])"
            ]
          },
          "metadata": {},
          "execution_count": 28
        }
      ]
    },
    {
      "cell_type": "code",
      "source": [
        "nd_arr.min()"
      ],
      "metadata": {
        "colab": {
          "base_uri": "https://localhost:8080/"
        },
        "id": "M71b3CA24kLs",
        "outputId": "5c64980c-c6a6-4341-c36f-23820924b861"
      },
      "execution_count": 30,
      "outputs": [
        {
          "output_type": "execute_result",
          "data": {
            "text/plain": [
              "1"
            ]
          },
          "metadata": {},
          "execution_count": 30
        }
      ]
    },
    {
      "cell_type": "code",
      "source": [
        "nd_arr.min(axis=1)"
      ],
      "metadata": {
        "colab": {
          "base_uri": "https://localhost:8080/"
        },
        "id": "ZJxkEUmu5D7s",
        "outputId": "b8be9777-c9d4-444e-e5f5-83423a3e3e5c"
      },
      "execution_count": 32,
      "outputs": [
        {
          "output_type": "execute_result",
          "data": {
            "text/plain": [
              "array([ 1,  6, 11])"
            ]
          },
          "metadata": {},
          "execution_count": 32
        }
      ]
    },
    {
      "cell_type": "code",
      "source": [
        "nd_arr.min(axis=0)"
      ],
      "metadata": {
        "colab": {
          "base_uri": "https://localhost:8080/"
        },
        "id": "-gMErD0V5Yk4",
        "outputId": "6bcc3722-4abb-43e3-cf03-aa6d7e0933b4"
      },
      "execution_count": 33,
      "outputs": [
        {
          "output_type": "execute_result",
          "data": {
            "text/plain": [
              "array([1, 2, 3, 4, 5])"
            ]
          },
          "metadata": {},
          "execution_count": 33
        }
      ]
    },
    {
      "cell_type": "markdown",
      "source": [
        "#Broadcasting"
      ],
      "metadata": {
        "id": "XYaluwJ558zN"
      }
    },
    {
      "cell_type": "code",
      "source": [
        "a=np.array([10,-10])\n",
        "b=np.array([5,-5])\n",
        "c=np.array([0.5,4,1])"
      ],
      "metadata": {
        "id": "My-UhsPl5-84"
      },
      "execution_count": 48,
      "outputs": []
    },
    {
      "cell_type": "code",
      "source": [
        "a"
      ],
      "metadata": {
        "colab": {
          "base_uri": "https://localhost:8080/"
        },
        "id": "L2Hb_Vbu6Qlm",
        "outputId": "116ce6f6-6eba-4fcb-f749-d5fc6b3cd853"
      },
      "execution_count": 38,
      "outputs": [
        {
          "output_type": "execute_result",
          "data": {
            "text/plain": [
              "array([ 10, -10])"
            ]
          },
          "metadata": {},
          "execution_count": 38
        }
      ]
    },
    {
      "cell_type": "code",
      "source": [
        "b"
      ],
      "metadata": {
        "colab": {
          "base_uri": "https://localhost:8080/"
        },
        "id": "wOJHnpz96n5G",
        "outputId": "4d8c7641-5556-4a92-ffc4-6c5acf53c20e"
      },
      "execution_count": 39,
      "outputs": [
        {
          "output_type": "execute_result",
          "data": {
            "text/plain": [
              "array([ 5, -5])"
            ]
          },
          "metadata": {},
          "execution_count": 39
        }
      ]
    },
    {
      "cell_type": "code",
      "source": [
        "c"
      ],
      "metadata": {
        "colab": {
          "base_uri": "https://localhost:8080/"
        },
        "id": "oF2G2P9U6w_Y",
        "outputId": "5600823c-00e2-46ad-a9ff-e29b14372ffa"
      },
      "execution_count": 40,
      "outputs": [
        {
          "output_type": "execute_result",
          "data": {
            "text/plain": [
              "array([0.5, 4. , 1. ])"
            ]
          },
          "metadata": {},
          "execution_count": 40
        }
      ]
    },
    {
      "cell_type": "code",
      "source": [
        "a+b"
      ],
      "metadata": {
        "colab": {
          "base_uri": "https://localhost:8080/"
        },
        "id": "hLIrjR4w6yIG",
        "outputId": "480717c4-050a-44c9-e2be-1d29cfe5e638"
      },
      "execution_count": 41,
      "outputs": [
        {
          "output_type": "execute_result",
          "data": {
            "text/plain": [
              "array([ 15, -15])"
            ]
          },
          "metadata": {},
          "execution_count": 41
        }
      ]
    },
    {
      "cell_type": "code",
      "source": [
        "a*b"
      ],
      "metadata": {
        "colab": {
          "base_uri": "https://localhost:8080/"
        },
        "id": "PCDH4Wiq62UH",
        "outputId": "5a777626-b842-4f4c-aba1-fddc59ea3be0"
      },
      "execution_count": 43,
      "outputs": [
        {
          "output_type": "execute_result",
          "data": {
            "text/plain": [
              "array([50, 50])"
            ]
          },
          "metadata": {},
          "execution_count": 43
        }
      ]
    },
    {
      "cell_type": "code",
      "source": [
        "a/b"
      ],
      "metadata": {
        "colab": {
          "base_uri": "https://localhost:8080/"
        },
        "id": "J2BYfYSJ63lA",
        "outputId": "23a09b2b-ad2d-4224-ff87-5b9abcbfc061"
      },
      "execution_count": 44,
      "outputs": [
        {
          "output_type": "execute_result",
          "data": {
            "text/plain": [
              "array([2., 2.])"
            ]
          },
          "metadata": {},
          "execution_count": 44
        }
      ]
    },
    {
      "cell_type": "code",
      "source": [
        "a%b"
      ],
      "metadata": {
        "colab": {
          "base_uri": "https://localhost:8080/"
        },
        "id": "z54CDPXr7Bh-",
        "outputId": "d706f18b-a184-4470-d68d-7d79acf2cd58"
      },
      "execution_count": 49,
      "outputs": [
        {
          "output_type": "execute_result",
          "data": {
            "text/plain": [
              "array([0, 0])"
            ]
          },
          "metadata": {},
          "execution_count": 49
        }
      ]
    },
    {
      "cell_type": "code",
      "source": [
        "a=np.array([[10],[-10]])\n",
        "b=np.array([[1,2],[2,4]])"
      ],
      "metadata": {
        "id": "3ki-spVB7HOf"
      },
      "execution_count": 63,
      "outputs": []
    },
    {
      "cell_type": "code",
      "source": [
        "print(a)\n",
        "print('\\n')\n",
        "print(b)\n",
        "print('\\n\\n')\n",
        "print(a+b)\n",
        "print('\\n')\n",
        "print(a.shape, b.shape)\n",
        "print('\\n\\n')\n",
        "print(a-2)\n",
        "print('\\n\\n')\n",
        "print(b*3)\n",
        "#Elemenets will \"duplicate, expand and fill up\"\n",
        "#to make the dimesions compatible for element-wise operation"
      ],
      "metadata": {
        "colab": {
          "base_uri": "https://localhost:8080/"
        },
        "id": "XtumtMvN8oCr",
        "outputId": "17abde8c-6a17-48ec-8066-8ccb492e440b"
      },
      "execution_count": 66,
      "outputs": [
        {
          "output_type": "stream",
          "name": "stdout",
          "text": [
            "[[ 10]\n",
            " [-10]]\n",
            "\n",
            "\n",
            "[[1 2]\n",
            " [2 4]]\n",
            "\n",
            "\n",
            "\n",
            "[[11 12]\n",
            " [-8 -6]]\n",
            "\n",
            "\n",
            "(2, 1) (2, 2)\n",
            "\n",
            "\n",
            "\n",
            "[[  8]\n",
            " [-12]]\n",
            "\n",
            "\n",
            "\n",
            "[[ 3  6]\n",
            " [ 6 12]]\n"
          ]
        }
      ]
    },
    {
      "cell_type": "code",
      "source": [
        ""
      ],
      "metadata": {
        "id": "PqM5XUBYBnWw"
      },
      "execution_count": null,
      "outputs": []
    },
    {
      "cell_type": "markdown",
      "source": [
        "# #**PANDAS**\n",
        "Pandas series\n",
        "*   In a nutsell, pandas series are one dimensional np.ndarray vector with **an index**\n",
        "*   They are built upon Ndarrays\n",
        "\n"
      ],
      "metadata": {
        "id": "mebDf5koBpCA"
      }
    },
    {
      "cell_type": "code",
      "source": [
        "series=pd.Series([100,200,200,np.nan,400])\n",
        "print(series)\n",
        "print('\\n')\n",
        "print(series.shape)\n",
        "print(series.values)"
      ],
      "metadata": {
        "colab": {
          "base_uri": "https://localhost:8080/"
        },
        "id": "uXHMpS0mBsoE",
        "outputId": "8492855e-95da-4308-b825-47cf31235714"
      },
      "execution_count": 70,
      "outputs": [
        {
          "output_type": "stream",
          "name": "stdout",
          "text": [
            "0    100.0\n",
            "1    200.0\n",
            "2    200.0\n",
            "3      NaN\n",
            "4    400.0\n",
            "dtype: float64\n",
            "\n",
            "\n",
            "(5,)\n",
            "[100. 200. 200.  nan 400.]\n"
          ]
        }
      ]
    },
    {
      "cell_type": "code",
      "source": [
        "dt_index=pd.date_range('2021-1-1','2021-9-1',freq='m')\n",
        "word_series=pd.Series([\"arinda\",\"esther\",\"ethan\",\"ahumuza\",\"hillary\",\"kizza\",\"...\",None],index=dt_index)\n",
        "word_series"
      ],
      "metadata": {
        "colab": {
          "base_uri": "https://localhost:8080/"
        },
        "id": "kXDjxXmhErpP",
        "outputId": "75db7a8f-4440-4e10-b1c0-dc89c699f3fc"
      },
      "execution_count": 88,
      "outputs": [
        {
          "output_type": "execute_result",
          "data": {
            "text/plain": [
              "2021-01-31     arinda\n",
              "2021-02-28     esther\n",
              "2021-03-31      ethan\n",
              "2021-04-30    ahumuza\n",
              "2021-05-31    hillary\n",
              "2021-06-30      kizza\n",
              "2021-07-31        ...\n",
              "2021-08-31       None\n",
              "Freq: M, dtype: object"
            ]
          },
          "metadata": {},
          "execution_count": 88
        }
      ]
    },
    {
      "cell_type": "markdown",
      "source": [
        "Dealing with dates"
      ],
      "metadata": {
        "id": "gGVcv4X-HGAo"
      }
    },
    {
      "cell_type": "code",
      "source": [
        "pd.date_range?"
      ],
      "metadata": {
        "id": "TjJsNm9FHJAn"
      },
      "execution_count": 74,
      "outputs": []
    },
    {
      "cell_type": "code",
      "source": [
        "#datetime index\n",
        "dt_index=pd.date_range('2021-1-1','2021-12-30',freq='m')\n",
        "dt_series=pd.Series(randn(11),index=dt_index)\n",
        "print(dt_series)\n",
        "dt_index"
      ],
      "metadata": {
        "colab": {
          "base_uri": "https://localhost:8080/"
        },
        "id": "VrfCfZ2NHPdf",
        "outputId": "ce04aa45-6587-44d0-b8ca-918a96f6cfa9"
      },
      "execution_count": 90,
      "outputs": [
        {
          "output_type": "stream",
          "name": "stdout",
          "text": [
            "2021-01-31    1.138268\n",
            "2021-02-28    0.007663\n",
            "2021-03-31    0.755774\n",
            "2021-04-30    0.419036\n",
            "2021-05-31   -0.787450\n",
            "2021-06-30   -1.846620\n",
            "2021-07-31    0.383173\n",
            "2021-08-31    1.058882\n",
            "2021-09-30   -2.391969\n",
            "2021-10-31    1.399708\n",
            "2021-11-30    1.272039\n",
            "Freq: M, dtype: float64\n"
          ]
        },
        {
          "output_type": "execute_result",
          "data": {
            "text/plain": [
              "DatetimeIndex(['2021-01-31', '2021-02-28', '2021-03-31', '2021-04-30',\n",
              "               '2021-05-31', '2021-06-30', '2021-07-31', '2021-08-31',\n",
              "               '2021-09-30', '2021-10-31', '2021-11-30'],\n",
              "              dtype='datetime64[ns]', freq='M')"
            ]
          },
          "metadata": {},
          "execution_count": 90
        }
      ]
    },
    {
      "cell_type": "code",
      "source": [
        "dt_series.max()"
      ],
      "metadata": {
        "colab": {
          "base_uri": "https://localhost:8080/"
        },
        "id": "Izu2TevYJjiS",
        "outputId": "b663c040-8299-4330-9157-c56bea0a72a9"
      },
      "execution_count": 96,
      "outputs": [
        {
          "output_type": "execute_result",
          "data": {
            "text/plain": [
              "1.3997083875792882"
            ]
          },
          "metadata": {},
          "execution_count": 96
        }
      ]
    },
    {
      "cell_type": "markdown",
      "source": [
        "**Index**\n",
        "\n",
        "* Notice how each series has an index (in this case a relatively meaningless default index).\n",
        "* Pandas can make great use of informative indexes. Indexes work similarly to a dictionary key, allowing fast lookups of the data associated with the index.\n",
        "* Indexes can also be exploited for fast group-bys, merges, time-series operations and lots more.\n",
        "* When you're really in the zone with pandas, you'll be thinkina a lot about indexes.\n"
      ],
      "metadata": {
        "id": "bXtkaePgO4Fi"
      }
    },
    {
      "cell_type": "code",
      "source": [
        ""
      ],
      "metadata": {
        "id": "FJl56lkiO85Y"
      },
      "execution_count": null,
      "outputs": []
    },
    {
      "cell_type": "markdown",
      "source": [
        "# Pandas DataFrames\n",
        "* A set of series that share the same index"
      ],
      "metadata": {
        "id": "EHuSkSIfPWOo"
      }
    },
    {
      "cell_type": "code",
      "source": [
        "index_a=pd.Series(randn(4),index=(['arinda','hillary','kizza','esther']))"
      ],
      "metadata": {
        "id": "_UrfwBZJPY5f"
      },
      "execution_count": 98,
      "outputs": []
    },
    {
      "cell_type": "code",
      "source": [
        "index_b=pd.Series(randn(4),index=['arinda','ethan','ahumuza','esther'])"
      ],
      "metadata": {
        "id": "OL7Y_Jd_QCCL"
      },
      "execution_count": 99,
      "outputs": []
    },
    {
      "cell_type": "code",
      "source": [
        "print(index_a)\n",
        "print('\\n')\n",
        "print(index_b)\n",
        "print('\\n\\n')\n",
        "print(index_a+index_b)\n"
      ],
      "metadata": {
        "colab": {
          "base_uri": "https://localhost:8080/"
        },
        "id": "5VUyAZ3BQXYy",
        "outputId": "74f21faa-738b-44b2-86cf-7d4ba745e286"
      },
      "execution_count": 102,
      "outputs": [
        {
          "output_type": "stream",
          "name": "stdout",
          "text": [
            "arinda     0.787186\n",
            "hillary   -1.206557\n",
            "kizza     -0.434580\n",
            "esther    -0.738216\n",
            "dtype: float64\n",
            "\n",
            "\n",
            "arinda     0.932561\n",
            "ethan     -1.197807\n",
            "ahumuza   -0.841334\n",
            "esther     1.183043\n",
            "dtype: float64\n",
            "\n",
            "\n",
            "\n",
            "ahumuza         NaN\n",
            "arinda     1.719747\n",
            "esther     0.444827\n",
            "ethan           NaN\n",
            "hillary         NaN\n",
            "kizza           NaN\n",
            "dtype: float64\n"
          ]
        }
      ]
    },
    {
      "cell_type": "code",
      "source": [
        "dframe=pd.DataFrame([[1,2,3],[4,5,6]],\n",
        "                    columns=['arinda','ethan','esther'],\n",
        "                    index=['a','b'])"
      ],
      "metadata": {
        "id": "K5XRMSpkSUKz"
      },
      "execution_count": 105,
      "outputs": []
    },
    {
      "cell_type": "code",
      "source": [
        "print(dframe)"
      ],
      "metadata": {
        "colab": {
          "base_uri": "https://localhost:8080/"
        },
        "id": "wAv9haXIUNY3",
        "outputId": "3bb2f90f-fc93-427a-890d-ebd92ddbcf6f"
      },
      "execution_count": 107,
      "outputs": [
        {
          "output_type": "stream",
          "name": "stdout",
          "text": [
            "   arinda  ethan  esther\n",
            "a       1      2       3\n",
            "b       4      5       6\n"
          ]
        }
      ]
    },
    {
      "cell_type": "code",
      "source": [
        "df=pd.DataFrame(randn(11,5),index=dt_index, columns=[x for x in 'abcde'])"
      ],
      "metadata": {
        "id": "_T275bnMUSXy"
      },
      "execution_count": 109,
      "outputs": []
    },
    {
      "cell_type": "code",
      "source": [
        "print(df)"
      ],
      "metadata": {
        "colab": {
          "base_uri": "https://localhost:8080/"
        },
        "id": "FLybdE33VsoU",
        "outputId": "d4879253-0f9b-4e94-adc2-f1022e35cc64"
      },
      "execution_count": 110,
      "outputs": [
        {
          "output_type": "stream",
          "name": "stdout",
          "text": [
            "                   a         b         c         d         e\n",
            "2021-01-31  0.346660  0.919220 -0.749978  1.071257 -0.468449\n",
            "2021-02-28  1.849014 -0.150361  0.329953  1.185514 -0.429099\n",
            "2021-03-31 -0.310206  0.029114 -0.020804 -0.375147  0.505769\n",
            "2021-04-30  1.267929  1.615148  0.054196  0.052833  1.129534\n",
            "2021-05-31  0.152267 -0.780995  0.061850  1.005412  1.973250\n",
            "2021-06-30  0.498378  1.022751 -1.861467 -1.377795  1.561040\n",
            "2021-07-31 -0.832364 -1.071818 -0.155693  0.252249 -0.086627\n",
            "2021-08-31  0.777549  0.925177 -1.425439  1.591463 -1.160788\n",
            "2021-09-30  1.104116  1.204797 -1.934701 -1.029340  1.788701\n",
            "2021-10-31  1.407480 -0.130707 -1.194974  0.177555 -0.022225\n",
            "2021-11-30  0.402656  0.869056  1.519529 -0.336584  0.924336\n"
          ]
        }
      ]
    },
    {
      "cell_type": "markdown",
      "source": [
        "# Select one column"
      ],
      "metadata": {
        "id": "xD7KKqMhWepp"
      }
    },
    {
      "cell_type": "code",
      "source": [
        "df['a']"
      ],
      "metadata": {
        "colab": {
          "base_uri": "https://localhost:8080/"
        },
        "id": "3ig0MIL2Vxfl",
        "outputId": "5f31e7db-9267-4083-8dc8-9935ba1df155"
      },
      "execution_count": 115,
      "outputs": [
        {
          "output_type": "execute_result",
          "data": {
            "text/plain": [
              "2021-01-31    0.346660\n",
              "2021-02-28    1.849014\n",
              "2021-03-31   -0.310206\n",
              "2021-04-30    1.267929\n",
              "2021-05-31    0.152267\n",
              "2021-06-30    0.498378\n",
              "2021-07-31   -0.832364\n",
              "2021-08-31    0.777549\n",
              "2021-09-30    1.104116\n",
              "2021-10-31    1.407480\n",
              "2021-11-30    0.402656\n",
              "Freq: M, Name: a, dtype: float64"
            ]
          },
          "metadata": {},
          "execution_count": 115
        }
      ]
    },
    {
      "cell_type": "markdown",
      "source": [
        "Select one column alternative"
      ],
      "metadata": {
        "id": "vR6roVCWWh5W"
      }
    },
    {
      "cell_type": "code",
      "source": [
        "df.a\n"
      ],
      "metadata": {
        "colab": {
          "base_uri": "https://localhost:8080/"
        },
        "id": "2uH__3SjV-3P",
        "outputId": "3881f6b7-c9b8-4ddd-8529-262169276f6d"
      },
      "execution_count": 112,
      "outputs": [
        {
          "output_type": "execute_result",
          "data": {
            "text/plain": [
              "2021-01-31    0.346660\n",
              "2021-02-28    1.849014\n",
              "2021-03-31   -0.310206\n",
              "2021-04-30    1.267929\n",
              "2021-05-31    0.152267\n",
              "2021-06-30    0.498378\n",
              "2021-07-31   -0.832364\n",
              "2021-08-31    0.777549\n",
              "2021-09-30    1.104116\n",
              "2021-10-31    1.407480\n",
              "2021-11-30    0.402656\n",
              "Freq: M, Name: a, dtype: float64"
            ]
          },
          "metadata": {},
          "execution_count": 112
        }
      ]
    },
    {
      "cell_type": "markdown",
      "source": [
        "# To select one row, user loc[]"
      ],
      "metadata": {
        "id": "iC3hSFT3W3jj"
      }
    },
    {
      "cell_type": "code",
      "source": [
        "df.loc['2021-10-31']"
      ],
      "metadata": {
        "colab": {
          "base_uri": "https://localhost:8080/"
        },
        "id": "4pRUkrSfWC55",
        "outputId": "7ff2dc8a-dad8-40a9-90d2-27141ccab02b"
      },
      "execution_count": 116,
      "outputs": [
        {
          "output_type": "execute_result",
          "data": {
            "text/plain": [
              "a    1.407480\n",
              "b   -0.130707\n",
              "c   -1.194974\n",
              "d    0.177555\n",
              "e   -0.022225\n",
              "Name: 2021-10-31 00:00:00, dtype: float64"
            ]
          },
          "metadata": {},
          "execution_count": 116
        }
      ]
    },
    {
      "cell_type": "code",
      "source": [
        ""
      ],
      "metadata": {
        "id": "sIvwSB4zXG2E"
      },
      "execution_count": null,
      "outputs": []
    },
    {
      "cell_type": "markdown",
      "source": [
        "# A column of  a dataframe is a series\n"
      ],
      "metadata": {
        "id": "qz-c0zwIXb2n"
      }
    },
    {
      "cell_type": "code",
      "source": [
        "col=df['b']\n",
        "type(col)"
      ],
      "metadata": {
        "colab": {
          "base_uri": "https://localhost:8080/"
        },
        "id": "whT6BURAXfQw",
        "outputId": "b5a74401-738b-415b-9e07-662370297ffe"
      },
      "execution_count": 127,
      "outputs": [
        {
          "output_type": "execute_result",
          "data": {
            "text/plain": [
              "pandas.core.series.Series"
            ]
          },
          "metadata": {},
          "execution_count": 127
        }
      ]
    },
    {
      "cell_type": "markdown",
      "source": [
        "# A row of a data frame is also a series"
      ],
      "metadata": {
        "id": "XJy5Vqy9Xf5C"
      }
    },
    {
      "cell_type": "code",
      "source": [
        "row=df.loc['2021-11-30']\n",
        "type(row)"
      ],
      "metadata": {
        "colab": {
          "base_uri": "https://localhost:8080/"
        },
        "id": "5z8oA9TJXjZU",
        "outputId": "c99435ae-541b-416b-f32f-baae945f4696"
      },
      "execution_count": 125,
      "outputs": [
        {
          "output_type": "execute_result",
          "data": {
            "text/plain": [
              "pandas.core.series.Series"
            ]
          },
          "metadata": {},
          "execution_count": 125
        }
      ]
    },
    {
      "cell_type": "code",
      "source": [
        ""
      ],
      "metadata": {
        "id": "aHmHJlZaX8Pg"
      },
      "execution_count": null,
      "outputs": []
    },
    {
      "cell_type": "markdown",
      "source": [
        "# colums have the same index"
      ],
      "metadata": {
        "id": "2pqb1g5iYooZ"
      }
    },
    {
      "cell_type": "code",
      "source": [
        "col.index"
      ],
      "metadata": {
        "colab": {
          "base_uri": "https://localhost:8080/"
        },
        "id": "W79DrLvfYqgp",
        "outputId": "7258663d-9c92-47c9-b662-f4066064a616"
      },
      "execution_count": 128,
      "outputs": [
        {
          "output_type": "execute_result",
          "data": {
            "text/plain": [
              "DatetimeIndex(['2021-01-31', '2021-02-28', '2021-03-31', '2021-04-30',\n",
              "               '2021-05-31', '2021-06-30', '2021-07-31', '2021-08-31',\n",
              "               '2021-09-30', '2021-10-31', '2021-11-30'],\n",
              "              dtype='datetime64[ns]', freq='M')"
            ]
          },
          "metadata": {},
          "execution_count": 128
        }
      ]
    },
    {
      "cell_type": "code",
      "source": [
        ""
      ],
      "metadata": {
        "id": "Aqxr5JN-YrcX"
      },
      "execution_count": null,
      "outputs": []
    },
    {
      "cell_type": "markdown",
      "source": [
        "What about rows?"
      ],
      "metadata": {
        "id": "463yT_SAY7zI"
      }
    },
    {
      "cell_type": "code",
      "source": [
        "row.index"
      ],
      "metadata": {
        "colab": {
          "base_uri": "https://localhost:8080/"
        },
        "id": "iubvNzoKY9V2",
        "outputId": "58489bb0-b116-454d-f3af-34a4e6ed37c6"
      },
      "execution_count": 129,
      "outputs": [
        {
          "output_type": "execute_result",
          "data": {
            "text/plain": [
              "Index(['a', 'b', 'c', 'd', 'e'], dtype='object')"
            ]
          },
          "metadata": {},
          "execution_count": 129
        }
      ]
    },
    {
      "cell_type": "code",
      "source": [
        "df.columns"
      ],
      "metadata": {
        "colab": {
          "base_uri": "https://localhost:8080/"
        },
        "id": "23lBnX6wY-kM",
        "outputId": "71f47e0c-25ae-4573-e369-9cc19447186b"
      },
      "execution_count": 130,
      "outputs": [
        {
          "output_type": "execute_result",
          "data": {
            "text/plain": [
              "Index(['a', 'b', 'c', 'd', 'e'], dtype='object')"
            ]
          },
          "metadata": {},
          "execution_count": 130
        }
      ]
    },
    {
      "cell_type": "code",
      "source": [
        "df.columns.values\n"
      ],
      "metadata": {
        "colab": {
          "base_uri": "https://localhost:8080/"
        },
        "id": "8mfoGJllZQZK",
        "outputId": "cb647eb2-2fc4-4924-c07d-dc4014060bd5"
      },
      "execution_count": 131,
      "outputs": [
        {
          "output_type": "execute_result",
          "data": {
            "text/plain": [
              "array(['a', 'b', 'c', 'd', 'e'], dtype=object)"
            ]
          },
          "metadata": {},
          "execution_count": 131
        }
      ]
    },
    {
      "cell_type": "code",
      "source": [
        "list(df.columns.values)"
      ],
      "metadata": {
        "colab": {
          "base_uri": "https://localhost:8080/"
        },
        "id": "DCH9UCcvZTcG",
        "outputId": "a32507f9-8604-4ac8-dec6-c48cade1d635"
      },
      "execution_count": 132,
      "outputs": [
        {
          "output_type": "execute_result",
          "data": {
            "text/plain": [
              "['a', 'b', 'c', 'd', 'e']"
            ]
          },
          "metadata": {},
          "execution_count": 132
        }
      ]
    },
    {
      "cell_type": "code",
      "source": [
        ""
      ],
      "metadata": {
        "id": "xYI66C07ZYPQ"
      },
      "execution_count": null,
      "outputs": []
    },
    {
      "cell_type": "markdown",
      "source": [
        "# Select multiple columns using two brackets"
      ],
      "metadata": {
        "id": "xmtSroVnZfEF"
      }
    },
    {
      "cell_type": "code",
      "source": [
        "df[['a','b']]"
      ],
      "metadata": {
        "colab": {
          "base_uri": "https://localhost:8080/",
          "height": 394
        },
        "id": "zNBAqbQPZkIu",
        "outputId": "d00150c1-0f7c-4a22-e58e-3d6f0a091590"
      },
      "execution_count": 135,
      "outputs": [
        {
          "output_type": "execute_result",
          "data": {
            "text/html": [
              "\n",
              "  <div id=\"df-988bba4c-f5e6-428e-b608-28f04c539122\">\n",
              "    <div class=\"colab-df-container\">\n",
              "      <div>\n",
              "<style scoped>\n",
              "    .dataframe tbody tr th:only-of-type {\n",
              "        vertical-align: middle;\n",
              "    }\n",
              "\n",
              "    .dataframe tbody tr th {\n",
              "        vertical-align: top;\n",
              "    }\n",
              "\n",
              "    .dataframe thead th {\n",
              "        text-align: right;\n",
              "    }\n",
              "</style>\n",
              "<table border=\"1\" class=\"dataframe\">\n",
              "  <thead>\n",
              "    <tr style=\"text-align: right;\">\n",
              "      <th></th>\n",
              "      <th>a</th>\n",
              "      <th>b</th>\n",
              "    </tr>\n",
              "  </thead>\n",
              "  <tbody>\n",
              "    <tr>\n",
              "      <th>2021-01-31</th>\n",
              "      <td>0.346660</td>\n",
              "      <td>0.919220</td>\n",
              "    </tr>\n",
              "    <tr>\n",
              "      <th>2021-02-28</th>\n",
              "      <td>1.849014</td>\n",
              "      <td>-0.150361</td>\n",
              "    </tr>\n",
              "    <tr>\n",
              "      <th>2021-03-31</th>\n",
              "      <td>-0.310206</td>\n",
              "      <td>0.029114</td>\n",
              "    </tr>\n",
              "    <tr>\n",
              "      <th>2021-04-30</th>\n",
              "      <td>1.267929</td>\n",
              "      <td>1.615148</td>\n",
              "    </tr>\n",
              "    <tr>\n",
              "      <th>2021-05-31</th>\n",
              "      <td>0.152267</td>\n",
              "      <td>-0.780995</td>\n",
              "    </tr>\n",
              "    <tr>\n",
              "      <th>2021-06-30</th>\n",
              "      <td>0.498378</td>\n",
              "      <td>1.022751</td>\n",
              "    </tr>\n",
              "    <tr>\n",
              "      <th>2021-07-31</th>\n",
              "      <td>-0.832364</td>\n",
              "      <td>-1.071818</td>\n",
              "    </tr>\n",
              "    <tr>\n",
              "      <th>2021-08-31</th>\n",
              "      <td>0.777549</td>\n",
              "      <td>0.925177</td>\n",
              "    </tr>\n",
              "    <tr>\n",
              "      <th>2021-09-30</th>\n",
              "      <td>1.104116</td>\n",
              "      <td>1.204797</td>\n",
              "    </tr>\n",
              "    <tr>\n",
              "      <th>2021-10-31</th>\n",
              "      <td>1.407480</td>\n",
              "      <td>-0.130707</td>\n",
              "    </tr>\n",
              "    <tr>\n",
              "      <th>2021-11-30</th>\n",
              "      <td>0.402656</td>\n",
              "      <td>0.869056</td>\n",
              "    </tr>\n",
              "  </tbody>\n",
              "</table>\n",
              "</div>\n",
              "      <button class=\"colab-df-convert\" onclick=\"convertToInteractive('df-988bba4c-f5e6-428e-b608-28f04c539122')\"\n",
              "              title=\"Convert this dataframe to an interactive table.\"\n",
              "              style=\"display:none;\">\n",
              "        \n",
              "  <svg xmlns=\"http://www.w3.org/2000/svg\" height=\"24px\"viewBox=\"0 0 24 24\"\n",
              "       width=\"24px\">\n",
              "    <path d=\"M0 0h24v24H0V0z\" fill=\"none\"/>\n",
              "    <path d=\"M18.56 5.44l.94 2.06.94-2.06 2.06-.94-2.06-.94-.94-2.06-.94 2.06-2.06.94zm-11 1L8.5 8.5l.94-2.06 2.06-.94-2.06-.94L8.5 2.5l-.94 2.06-2.06.94zm10 10l.94 2.06.94-2.06 2.06-.94-2.06-.94-.94-2.06-.94 2.06-2.06.94z\"/><path d=\"M17.41 7.96l-1.37-1.37c-.4-.4-.92-.59-1.43-.59-.52 0-1.04.2-1.43.59L10.3 9.45l-7.72 7.72c-.78.78-.78 2.05 0 2.83L4 21.41c.39.39.9.59 1.41.59.51 0 1.02-.2 1.41-.59l7.78-7.78 2.81-2.81c.8-.78.8-2.07 0-2.86zM5.41 20L4 18.59l7.72-7.72 1.47 1.35L5.41 20z\"/>\n",
              "  </svg>\n",
              "      </button>\n",
              "      \n",
              "  <style>\n",
              "    .colab-df-container {\n",
              "      display:flex;\n",
              "      flex-wrap:wrap;\n",
              "      gap: 12px;\n",
              "    }\n",
              "\n",
              "    .colab-df-convert {\n",
              "      background-color: #E8F0FE;\n",
              "      border: none;\n",
              "      border-radius: 50%;\n",
              "      cursor: pointer;\n",
              "      display: none;\n",
              "      fill: #1967D2;\n",
              "      height: 32px;\n",
              "      padding: 0 0 0 0;\n",
              "      width: 32px;\n",
              "    }\n",
              "\n",
              "    .colab-df-convert:hover {\n",
              "      background-color: #E2EBFA;\n",
              "      box-shadow: 0px 1px 2px rgba(60, 64, 67, 0.3), 0px 1px 3px 1px rgba(60, 64, 67, 0.15);\n",
              "      fill: #174EA6;\n",
              "    }\n",
              "\n",
              "    [theme=dark] .colab-df-convert {\n",
              "      background-color: #3B4455;\n",
              "      fill: #D2E3FC;\n",
              "    }\n",
              "\n",
              "    [theme=dark] .colab-df-convert:hover {\n",
              "      background-color: #434B5C;\n",
              "      box-shadow: 0px 1px 3px 1px rgba(0, 0, 0, 0.15);\n",
              "      filter: drop-shadow(0px 1px 2px rgba(0, 0, 0, 0.3));\n",
              "      fill: #FFFFFF;\n",
              "    }\n",
              "  </style>\n",
              "\n",
              "      <script>\n",
              "        const buttonEl =\n",
              "          document.querySelector('#df-988bba4c-f5e6-428e-b608-28f04c539122 button.colab-df-convert');\n",
              "        buttonEl.style.display =\n",
              "          google.colab.kernel.accessAllowed ? 'block' : 'none';\n",
              "\n",
              "        async function convertToInteractive(key) {\n",
              "          const element = document.querySelector('#df-988bba4c-f5e6-428e-b608-28f04c539122');\n",
              "          const dataTable =\n",
              "            await google.colab.kernel.invokeFunction('convertToInteractive',\n",
              "                                                     [key], {});\n",
              "          if (!dataTable) return;\n",
              "\n",
              "          const docLinkHtml = 'Like what you see? Visit the ' +\n",
              "            '<a target=\"_blank\" href=https://colab.research.google.com/notebooks/data_table.ipynb>data table notebook</a>'\n",
              "            + ' to learn more about interactive tables.';\n",
              "          element.innerHTML = '';\n",
              "          dataTable['output_type'] = 'display_data';\n",
              "          await google.colab.output.renderOutput(dataTable, element);\n",
              "          const docLink = document.createElement('div');\n",
              "          docLink.innerHTML = docLinkHtml;\n",
              "          element.appendChild(docLink);\n",
              "        }\n",
              "      </script>\n",
              "    </div>\n",
              "  </div>\n",
              "  "
            ],
            "text/plain": [
              "                   a         b\n",
              "2021-01-31  0.346660  0.919220\n",
              "2021-02-28  1.849014 -0.150361\n",
              "2021-03-31 -0.310206  0.029114\n",
              "2021-04-30  1.267929  1.615148\n",
              "2021-05-31  0.152267 -0.780995\n",
              "2021-06-30  0.498378  1.022751\n",
              "2021-07-31 -0.832364 -1.071818\n",
              "2021-08-31  0.777549  0.925177\n",
              "2021-09-30  1.104116  1.204797\n",
              "2021-10-31  1.407480 -0.130707\n",
              "2021-11-30  0.402656  0.869056"
            ]
          },
          "metadata": {},
          "execution_count": 135
        }
      ]
    },
    {
      "cell_type": "code",
      "source": [
        ""
      ],
      "metadata": {
        "id": "v-IAYZxNZm1u"
      },
      "execution_count": null,
      "outputs": []
    },
    {
      "cell_type": "markdown",
      "source": [
        "# column operations\n",
        "Operations are broadcast to every element in the column like in numpy"
      ],
      "metadata": {
        "id": "VNTRauiRZzcO"
      }
    },
    {
      "cell_type": "code",
      "source": [
        "df['a']+df['b']"
      ],
      "metadata": {
        "colab": {
          "base_uri": "https://localhost:8080/"
        },
        "id": "OvIXR3UgZ4Ec",
        "outputId": "c6b41cce-eb22-4dc0-a281-d4d346651b82"
      },
      "execution_count": 136,
      "outputs": [
        {
          "output_type": "execute_result",
          "data": {
            "text/plain": [
              "2021-01-31    1.265879\n",
              "2021-02-28    1.698654\n",
              "2021-03-31   -0.281093\n",
              "2021-04-30    2.883077\n",
              "2021-05-31   -0.628728\n",
              "2021-06-30    1.521128\n",
              "2021-07-31   -1.904182\n",
              "2021-08-31    1.702726\n",
              "2021-09-30    2.308912\n",
              "2021-10-31    1.276773\n",
              "2021-11-30    1.271712\n",
              "Freq: M, dtype: float64"
            ]
          },
          "metadata": {},
          "execution_count": 136
        }
      ]
    },
    {
      "cell_type": "code",
      "source": [
        ""
      ],
      "metadata": {
        "id": "RfE5XjcaaGmi"
      },
      "execution_count": null,
      "outputs": []
    }
  ]
}